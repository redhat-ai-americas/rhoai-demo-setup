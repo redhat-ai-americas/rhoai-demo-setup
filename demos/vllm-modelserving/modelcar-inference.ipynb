{
 "cells": [
  {
   "cell_type": "code",
   "execution_count": null,
   "id": "3ac6c082",
   "metadata": {
    "vscode": {
     "languageId": "plaintext"
    }
   },
   "outputs": [],
   "source": [
    "import requests\n",
    "import json\n",
    "\n",
    "# Replace with your actual endpoint\n",
    "url = \"http://granite-3-1-8b-instruct-quantized-w8a8-predictor.demo-vllm.svc.cluster.local:8080/v1/chat/completions\"\n",
    "# Sample input payload (this depends on the model type)\n",
    "payload = {\n",
    "    \"model\": \"granite-3-1-8b-instruct-quantized-w8a8\",\n",
    "    \"messages\": [\n",
    "        {\n",
    "            \"role\": \"user\",\n",
    "            \"content\": \"How can a bee fly when its wings are so small?\"\n",
    "        }\n",
    "    ]\n",
    "}\n",
    "\n",
    "headers = {\n",
    "    \"Content-Type\": \"application/json\"\n",
    "}\n",
    "\n",
    "# Send the POST request\n",
    "response = requests.post(url, headers=headers, data=json.dumps(payload))\n",
    "\n",
    "# Parse the response\n",
    "if response.status_code == 200:\n",
    "    print(\"Model Response:\")\n",
    "    print(response.json())\n",
    "else:\n",
    "    print(f\"Request failed with status {response.status_code}\")\n",
    "    print(response.text)"
   ]
  }
 ],
 "metadata": {
  "language_info": {
   "name": "python"
  }
 },
 "nbformat": 4,
 "nbformat_minor": 5
}
